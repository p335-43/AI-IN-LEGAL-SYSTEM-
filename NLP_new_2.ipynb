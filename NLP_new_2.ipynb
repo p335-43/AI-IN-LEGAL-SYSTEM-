{
 "cells": [
  {
   "cell_type": "code",
   "execution_count": 2,
   "metadata": {},
   "outputs": [
    {
     "name": "stderr",
     "output_type": "stream",
     "text": [
      "/var/folders/dn/t8s0kyv52pbfv6q_x3r132rw0000gn/T/ipykernel_21264/3833084863.py:2: DeprecationWarning: \n",
      "Pyarrow will become a required dependency of pandas in the next major release of pandas (pandas 3.0),\n",
      "(to allow more performant data types, such as the Arrow string type, and better interoperability with other libraries)\n",
      "but was not found to be installed on your system.\n",
      "If this would cause problems for you,\n",
      "please provide us feedback at https://github.com/pandas-dev/pandas/issues/54466\n",
      "        \n",
      "  import pandas as pd\n"
     ]
    }
   ],
   "source": [
    "import numpy as np # linear algebra\n",
    "import pandas as pd"
   ]
  },
  {
   "cell_type": "code",
   "execution_count": 3,
   "metadata": {},
   "outputs": [
    {
     "name": "stdout",
     "output_type": "stream",
     "text": [
      "zsh:1: missing end of string\n"
     ]
    }
   ],
   "source": [
    "import json\n",
    "from pathlib import Path\n",
    "import nltk\n",
    "import urllib.request\n",
    "import urllib\n",
    "!nltk.download('reuters')"
   ]
  },
  {
   "cell_type": "code",
   "execution_count": 4,
   "metadata": {},
   "outputs": [],
   "source": [
    "def read_ipc(data_dict, split):\n",
    "    contexts = []\n",
    "    questions = []\n",
    "    answers = []\n",
    "    train_contexts = []\n",
    "    train_questions = []\n",
    "    train_answers = []\n",
    "    val_contexts = []\n",
    "    val_questions = []\n",
    "    val_answers = []\n",
    "    \n",
    "    for x,group in enumerate(data_dict['data']):\n",
    "        for passage in group['paragraphs']:\n",
    "            context = passage['context']\n",
    "            for qa in passage['qas']:\n",
    "                question = qa['question']\n",
    "                for answer in qa['answers']:\n",
    "                    if answer['answer_start']!=-1:\n",
    "                        contexts.append(context)\n",
    "                        questions.append(question)\n",
    "                        answers.append(answer)\n",
    "    \n",
    "    train_end=int(len(contexts)*split)\n",
    "    \n",
    "    for x in range(train_end):\n",
    "        train_contexts.append(contexts[x])\n",
    "        train_questions.append(questions[x])\n",
    "        train_answers.append(answers[x])\n",
    "    print(len(train_answers))\n",
    "    \n",
    "    for x in range(train_end,len(contexts)):\n",
    "        val_contexts.append(contexts[x])\n",
    "        val_questions.append(questions[x])\n",
    "        val_answers.append(answers[x])\n",
    "        \n",
    "    print(len(val_answers))   \n",
    "    return train_contexts, train_questions, train_answers,val_contexts, val_questions, val_answers"
   ]
  },
  {
   "cell_type": "code",
   "execution_count": null,
   "metadata": {},
   "outputs": [],
   "source": [
    "f = open('/kaggle/input/ipc-context/ipc_haystack.json')\n",
    "data = json.load(f)"
   ]
  }
 ],
 "metadata": {
  "kernelspec": {
   "display_name": "Python 3",
   "language": "python",
   "name": "python3"
  },
  "language_info": {
   "codemirror_mode": {
    "name": "ipython",
    "version": 3
   },
   "file_extension": ".py",
   "mimetype": "text/x-python",
   "name": "python",
   "nbconvert_exporter": "python",
   "pygments_lexer": "ipython3",
   "version": "3.11.7"
  }
 },
 "nbformat": 4,
 "nbformat_minor": 2
}
