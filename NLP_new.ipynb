{
 "cells": [
  {
   "cell_type": "code",
   "execution_count": 2,
   "metadata": {},
   "outputs": [
    {
     "name": "stderr",
     "output_type": "stream",
     "text": [
      "/var/folders/dn/t8s0kyv52pbfv6q_x3r132rw0000gn/T/ipykernel_21150/3833084863.py:2: DeprecationWarning: \n",
      "Pyarrow will become a required dependency of pandas in the next major release of pandas (pandas 3.0),\n",
      "(to allow more performant data types, such as the Arrow string type, and better interoperability with other libraries)\n",
      "but was not found to be installed on your system.\n",
      "If this would cause problems for you,\n",
      "please provide us feedback at https://github.com/pandas-dev/pandas/issues/54466\n",
      "        \n",
      "  import pandas as pd\n"
     ]
    }
   ],
   "source": [
    "import numpy as np # linear algebra\n",
    "import pandas as pd"
   ]
  },
  {
   "cell_type": "code",
   "execution_count": 3,
   "metadata": {},
   "outputs": [],
   "source": [
    "origDF = pd.read_csv('/Users/pranjalmishra/Desktop/python/dataset_ipc.csv',  encoding= 'unicode_escape')"
   ]
  },
  {
   "cell_type": "code",
   "execution_count": 4,
   "metadata": {},
   "outputs": [
    {
     "data": {
      "text/plain": [
       "'Punishment for culpable homicide not amounting to murder.â\\x80\\x94Whoever commits culpable\\nhomicide not amounting to murder, shall be punished with 1 [imprisonment for life], or imprisonment of\\neither description for a term which may extend to ten years, and shall also be liable to fine, if the act by\\nwhich the death is caused is done with the intention of causing death, or of causing such bodily injury as\\nis likely to cause death; or with imprisonment of either description for a term which may extend to ten years, or with fine, or\\nwith both, if the act is done with the knowledge that it is likely to cause death, but without any intention\\nto cause death, or to cause such bodily injury as is likely to cause death.'"
      ]
     },
     "execution_count": 4,
     "metadata": {},
     "output_type": "execute_result"
    }
   ],
   "source": [
    "origDF.drop(['Unnamed: 2'], axis = 1, inplace = True)\n",
    "df = origDF.copy()\n",
    "df.iloc[320]['description']"
   ]
  },
  {
   "cell_type": "code",
   "execution_count": 5,
   "metadata": {},
   "outputs": [
    {
     "name": "stderr",
     "output_type": "stream",
     "text": [
      "[nltk_data] Downloading package stopwords to\n",
      "[nltk_data]     /Users/pranjalmishra/nltk_data...\n",
      "[nltk_data]   Package stopwords is already up-to-date!\n"
     ]
    }
   ],
   "source": [
    "import re\n",
    "import nltk\n",
    "nltk.download('stopwords')\n",
    "\n",
    "import gensim\n",
    "from gensim.parsing.preprocessing import remove_stopwords, STOPWORDS\n",
    "\n",
    "from collections import Counter\n",
    "\n",
    "def preprocessingDesc(text):\n",
    "#     text = re.sub(r\"[^a-zA-Z0-9 ]\", \"\", text)\n",
    "    text = remove_stopwords(text)\n",
    "    text_en = text.encode(\"ascii\", \"ignore\")\n",
    "    text = text_en.decode()\n",
    "    text = text.replace(\"[\",\"\")\n",
    "    text = text.replace(\"]\",\"\")\n",
    "    text = text.replace(\"\\\"\",\"\")\n",
    "    text = text.replace(\"*\",\"\")\n",
    "    text = text.replace(\"\\'\",\"\")\n",
    "#     text = text.replace(\"\\\\\",\"\")\n",
    "    text = text.replace(\"/\",\"\")\n",
    "    text = text.replace(\"/n\",\"\")\n",
    "    text = text.replace(\"\\n\",\"\")\n",
    "    text = text.replace(\";\",\"\")\n",
    "    text = text.lower()\n",
    "    \n",
    "#     cnt = Counter()\n",
    "#     for word in text.split():\n",
    "#         cnt[word] += 1\n",
    "    \n",
    "#     freqwords = set([w for(w,wc) in cnt.most_common(1)])\n",
    "#     text = ' '.join([word for word in str(text).split() if word not in freqwords])\n",
    "    \n",
    "    return text\n",
    "\n",
    "df['description'] = df['description'].map(lambda s:preprocessingDesc(s))"
   ]
  },
  {
   "cell_type": "code",
   "execution_count": 6,
   "metadata": {},
   "outputs": [],
   "source": [
    "ipcs = df['description'].tolist()"
   ]
  },
  {
   "cell_type": "code",
   "execution_count": null,
   "metadata": {},
   "outputs": [],
   "source": []
  },
  {
   "cell_type": "code",
   "execution_count": 7,
   "metadata": {},
   "outputs": [],
   "source": [
    "from sentence_transformers import SentenceTransformer\n",
    "\n"
   ]
  },
  {
   "cell_type": "code",
   "execution_count": 8,
   "metadata": {},
   "outputs": [],
   "source": [
    "model_name = 'sentence-transformers/bert-base-nli-mean-tokens'\n",
    "modelS = SentenceTransformer(model_name)\n",
    "\n",
    "#Encoding:\n",
    "sentences_embeddings_a1 = modelS.encode(ipcs)"
   ]
  },
  {
   "cell_type": "code",
   "execution_count": 9,
   "metadata": {},
   "outputs": [
    {
     "name": "stderr",
     "output_type": "stream",
     "text": [
      "[nltk_data] Downloading package words to\n",
      "[nltk_data]     /Users/pranjalmishra/nltk_data...\n",
      "[nltk_data]   Package words is already up-to-date!\n"
     ]
    },
    {
     "name": "stdout",
     "output_type": "stream",
     "text": [
      "punishment if woman die within seven years of marrage\n",
      "punishment\n",
      "if\n",
      "woman\n",
      "die\n",
      "within\n",
      "seven\n",
      "year\n",
      "of\n",
      "marriage\n",
      "punishment if woman die within seven year of marriage \n"
     ]
    }
   ],
   "source": [
    "question = 'punishment if woman die within seven years of marrage'\n",
    "import nltk\n",
    "from nltk.util import ngrams\n",
    "from nltk.metrics.distance  import edit_distance\n",
    "\n",
    "nltk.download('words')\n",
    "from nltk.corpus import words\n",
    "correct_words = words.words()\n",
    "\n",
    "def autoCorrect(question):\n",
    "    updated = \"\"\n",
    "    check_words = question.split(\" \")\n",
    "    for word in check_words:\n",
    "        temp = [(edit_distance(word, w),w) for w in correct_words if w[0]==word[0]]\n",
    "        print(sorted(temp, key = lambda val:val[0])[0][1])\n",
    "        updated += sorted(temp, key = lambda val:val[0])[0][1] + \" \"\n",
    "    return updated\n",
    "print(question)\n",
    "question = autoCorrect(question)\n",
    "print(question)\n",
    "ques_emb = modelS.encode(question)"
   ]
  },
  {
   "cell_type": "code",
   "execution_count": 10,
   "metadata": {},
   "outputs": [
    {
     "data": {
      "text/plain": [
       "(553, 768)"
      ]
     },
     "execution_count": 10,
     "metadata": {},
     "output_type": "execute_result"
    }
   ],
   "source": [
    "sentences_embeddings_a1.shape"
   ]
  },
  {
   "cell_type": "code",
   "execution_count": 11,
   "metadata": {},
   "outputs": [
    {
     "name": "stdout",
     "output_type": "stream",
     "text": [
      "322\n"
     ]
    }
   ],
   "source": [
    "from sklearn.metrics.pairwise import cosine_similarity\n",
    "def predict_context(ques_emb, sentences_embeddings_a1):\n",
    "    count = 0\n",
    "    sim = 0\n",
    "    ans = 0\n",
    "\n",
    "    for emb in sentences_embeddings_a1:\n",
    "        similar_value_a1 = cosine_similarity([ques_emb], [emb])\n",
    "        if sim<similar_value_a1:\n",
    "            ans = count\n",
    "            sim = similar_value_a1\n",
    "        count+=1\n",
    "\n",
    "    print(ans)\n",
    "    return ans\n",
    "index = predict_context(ques_emb, sentences_embeddings_a1)"
   ]
  },
  {
   "cell_type": "code",
   "execution_count": 12,
   "metadata": {},
   "outputs": [
    {
     "name": "stdout",
     "output_type": "stream",
     "text": [
      "dowry death .(1) where death woman caused burns bodily injury occurs normal circumstances seven years marriage shown soon death subjected cruelty harassment husband relative husband for, connection with, demand dowry, death shall called dowry death, husband relative shall deemed caused death. explanation.for purposes sub-section, dowry shall meaning section 2 dowry prohibition act, 1961 (28 1961). (2) whoever commits dowry death shall punished imprisonment term shall seven years extend imprisonment life.\n",
      "Dowry death .â(1) Where the death of a woman is caused by any burns or bodily injury or\n",
      "occurs otherwise than under normal circumstances within seven years of her marriage and it is shown that\n",
      "soon before her death she was subjected to cruelty or harassment by her husband or any relative of her\n",
      "husband for, or in connection with, any demand for dowry, such death shall be called âdowry deathâ, and\n",
      "such husband or relative shall be deemed to have caused her death.\n",
      "Explanation.âFor the purposes of this sub-section, âdowryâ shall have the same meaning as in\n",
      "section 2 of the Dowry Prohibition Act, 1961 (28 of 1961).\n",
      "(2) Whoever commits dowry death shall be punished with imprisonment for a term which shall not be\n",
      "less than seven years but which may extend to imprisonment for life.]\n"
     ]
    }
   ],
   "source": [
    "print(ipcs[index])\n",
    "print(origDF.iloc[index]['description'])\n",
    "res = origDF.iloc[index]['description']"
   ]
  },
  {
   "cell_type": "code",
   "execution_count": 13,
   "metadata": {},
   "outputs": [
    {
     "data": {
      "text/plain": [
       "'Dowry death .(1) Where the death of a woman is caused by any burns or bodily injury or occurs otherwise than under normal circumstances within seven years of her marriage and it is shown that soon before her death she was subjected to cruelty or harassment by her husband or any relative of her husband for, or in connection with, any demand for dowry, such death shall be called dowry death, and such husband or relative shall be deemed to have caused her death. Explanation.For the purposes of this sub-section, dowry shall have the same meaning as in section 2 of the Dowry Prohibition Act, 1961 (28 of 1961). (2) Whoever commits dowry death shall be punished with imprisonment for a term which shall not be less than seven years but which may extend to imprisonment for life.]'"
      ]
     },
     "execution_count": 13,
     "metadata": {},
     "output_type": "execute_result"
    }
   ],
   "source": [
    "text_en = res.encode(\"ascii\", \"ignore\")\n",
    "text = text_en.decode()\n",
    "answer_text = text.replace(\"/n\",\"\")\n",
    "answer_text = text.replace(\"\\n\",\" \")\n",
    "answer_text"
   ]
  },
  {
   "cell_type": "code",
   "execution_count": null,
   "metadata": {},
   "outputs": [],
   "source": []
  }
 ],
 "metadata": {
  "kernelspec": {
   "display_name": "Python 3",
   "language": "python",
   "name": "python3"
  },
  "language_info": {
   "codemirror_mode": {
    "name": "ipython",
    "version": 3
   },
   "file_extension": ".py",
   "mimetype": "text/x-python",
   "name": "python",
   "nbconvert_exporter": "python",
   "pygments_lexer": "ipython3",
   "version": "3.11.7"
  }
 },
 "nbformat": 4,
 "nbformat_minor": 2
}
